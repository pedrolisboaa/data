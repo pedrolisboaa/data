{
 "cells": [
  {
   "cell_type": "code",
   "execution_count": null,
   "id": "623d4147-50a4-472f-a25d-36e7209ecd6b",
   "metadata": {},
   "outputs": [],
   "source": [
    "\"\"\"\n",
    "Projeto!\n",
    "\n",
    "1º Importar json como DF\n",
    "2º Tretar os dados levar apenas as colunas[\"numero_da_ocorrencia\", classicacacao_da_ocorrencia, data da ocorrencia, municipio, uf, regiao, nome do fabricante \n",
    "3º Tirar acentos de nomes de colunas\n",
    "4º Criar banco de dados e tabela\n",
    "5º Configurar a conexão\n",
    "6º enviar dados para o postgree\n",
    "7º Cria um delete da tebela para não ter histórico, mantendo em banco sempre os dados mais rescente\n",
    "8º retafuração de código\n",
    "9º Joga depois tudo para .py\n",
    "\"\"\""
   ]
  },
  {
   "cell_type": "code",
   "execution_count": null,
   "id": "aaf689e6-dc4a-4a1b-8ee1-d277c69700ba",
   "metadata": {},
   "outputs": [],
   "source": [
    "# 1º Importar json como DF\n",
    "import json\n",
    "import pandas as pd\n",
    "\n",
    "caminho_arquivo = 'anac/V_OCORRENCIA_AMPLA.json'\n",
    "\n",
    "df = pd.read_json(caminho_arquivo, encoding='utf-8-sig')\n",
    "df.head()"
   ]
  },
  {
   "cell_type": "code",
   "execution_count": null,
   "id": "fcbce0f1-4c38-4b3f-964d-a4fbda14f309",
   "metadata": {},
   "outputs": [],
   "source": [
    "# 2º Tretar os dados levar apenas as colunas[\"numero_da_ocorrencia\", classicacacao_da_ocorrencia, data da ocorrencia, municipio, uf, regiao, nome do fabricante\n",
    "novo_df = df[['Numero_da_Ocorrencia', 'Classificacao_da_Ocorrência', 'Data_da_Ocorrencia', 'Municipio', 'Regiao', 'Nome_do_Fabricante']]\n",
    "novo_df.head()"
   ]
  },
  {
   "cell_type": "code",
   "execution_count": 34,
   "id": "c1ea98c8-5186-4497-a883-850b0bbbb10c",
   "metadata": {},
   "outputs": [
    {
     "data": {
      "text/html": [
       "<div>\n",
       "<style scoped>\n",
       "    .dataframe tbody tr th:only-of-type {\n",
       "        vertical-align: middle;\n",
       "    }\n",
       "\n",
       "    .dataframe tbody tr th {\n",
       "        vertical-align: top;\n",
       "    }\n",
       "\n",
       "    .dataframe thead th {\n",
       "        text-align: right;\n",
       "    }\n",
       "</style>\n",
       "<table border=\"1\" class=\"dataframe\">\n",
       "  <thead>\n",
       "    <tr style=\"text-align: right;\">\n",
       "      <th></th>\n",
       "      <th>Numero_da_Ocorrencia</th>\n",
       "      <th>Classificacao_da_Ocorrência</th>\n",
       "      <th>Data_da_Ocorrencia</th>\n",
       "      <th>Municipio</th>\n",
       "      <th>Regiao</th>\n",
       "      <th>Nome_do_Fabricante</th>\n",
       "    </tr>\n",
       "  </thead>\n",
       "  <tbody>\n",
       "    <tr>\n",
       "      <th>0</th>\n",
       "      <td>7762</td>\n",
       "      <td>Incidente</td>\n",
       "      <td>2018-03-21</td>\n",
       "      <td>SÃO PAULO</td>\n",
       "      <td>Sudeste</td>\n",
       "      <td>AGUSTA</td>\n",
       "    </tr>\n",
       "    <tr>\n",
       "      <th>1</th>\n",
       "      <td>7759</td>\n",
       "      <td>Acidente</td>\n",
       "      <td>2018-03-14</td>\n",
       "      <td>MONTES CLAROS</td>\n",
       "      <td>Sudeste</td>\n",
       "      <td>CESSNA AIRCRAFT</td>\n",
       "    </tr>\n",
       "    <tr>\n",
       "      <th>2</th>\n",
       "      <td>7758</td>\n",
       "      <td>Acidente</td>\n",
       "      <td>2018-01-26</td>\n",
       "      <td>INACIOLÂNDIA</td>\n",
       "      <td>Centro-Oeste</td>\n",
       "      <td>CESSNA AIRCRAFT</td>\n",
       "    </tr>\n",
       "    <tr>\n",
       "      <th>3</th>\n",
       "      <td>7758</td>\n",
       "      <td>Acidente</td>\n",
       "      <td>2018-01-26</td>\n",
       "      <td>INACIOLÂNDIA</td>\n",
       "      <td>Centro-Oeste</td>\n",
       "      <td>CESSNA AIRCRAFT</td>\n",
       "    </tr>\n",
       "    <tr>\n",
       "      <th>4</th>\n",
       "      <td>7757</td>\n",
       "      <td>Incidente Grave</td>\n",
       "      <td>2018-03-18</td>\n",
       "      <td>TORRES</td>\n",
       "      <td>Sul</td>\n",
       "      <td>PIPER AIRCRAFT</td>\n",
       "    </tr>\n",
       "  </tbody>\n",
       "</table>\n",
       "</div>"
      ],
      "text/plain": [
       "   Numero_da_Ocorrencia Classificacao_da_Ocorrência Data_da_Ocorrencia      Municipio        Regiao Nome_do_Fabricante\n",
       "0                  7762                   Incidente         2018-03-21      SÃO PAULO       Sudeste             AGUSTA\n",
       "1                  7759                    Acidente         2018-03-14  MONTES CLAROS       Sudeste    CESSNA AIRCRAFT\n",
       "2                  7758                    Acidente         2018-01-26   INACIOLÂNDIA  Centro-Oeste    CESSNA AIRCRAFT\n",
       "3                  7758                    Acidente         2018-01-26   INACIOLÂNDIA  Centro-Oeste    CESSNA AIRCRAFT\n",
       "4                  7757             Incidente Grave         2018-03-18         TORRES           Sul     PIPER AIRCRAFT"
      ]
     },
     "execution_count": 34,
     "metadata": {},
     "output_type": "execute_result"
    }
   ],
   "source": [
    "#3º Tirar acendos de nomes de colunas\n",
    "import unicodedata\n",
    "\n",
    "def remover_acentos(texto):\n",
    "    if isinstance(texto, str):\n",
    "        texto_normalizado = unicodedata.normalize('NFKD', texto)\n",
    "        texto_sem_acento = ''.join([c for c in texto_normalizado if not unicodedata.combining(c)])\n",
    "        return texto_sem_acento\n",
    "    return texto\n",
    "\n",
    "df.columns = [remover_acentos(col) for col in df.columns]\n",
    "\n",
    "novo_df.head()\n"
   ]
  },
  {
   "cell_type": "code",
   "execution_count": null,
   "id": "2af7c77b-eaec-4972-8d02-7dd3d5a68091",
   "metadata": {},
   "outputs": [],
   "source": [
    "# 4º Criar banco de dados e tabela"
   ]
  },
  {
   "cell_type": "code",
   "execution_count": null,
   "id": "2c9e118f-db36-4cf1-964f-09d3f5456bd7",
   "metadata": {},
   "outputs": [],
   "source": []
  },
  {
   "cell_type": "code",
   "execution_count": null,
   "id": "d4a27878-f845-4942-a107-e7f9fd6f42ad",
   "metadata": {},
   "outputs": [],
   "source": []
  }
 ],
 "metadata": {
  "kernelspec": {
   "display_name": "Python 3 (ipykernel)",
   "language": "python",
   "name": "python3"
  },
  "language_info": {
   "codemirror_mode": {
    "name": "ipython",
    "version": 3
   },
   "file_extension": ".py",
   "mimetype": "text/x-python",
   "name": "python",
   "nbconvert_exporter": "python",
   "pygments_lexer": "ipython3",
   "version": "3.13.5"
  }
 },
 "nbformat": 4,
 "nbformat_minor": 5
}
